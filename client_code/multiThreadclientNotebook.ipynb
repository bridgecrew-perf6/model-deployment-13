{
 "cells": [
  {
   "cell_type": "code",
   "execution_count": null,
   "metadata": {},
   "outputs": [],
   "source": [
    "import requests\n",
    "import sys\n",
    "from threading import Thread\n",
    "import random\n",
    "\n",
    "queries = [\"Good morning\", \"How are you\",\"Today is a great day\", \"I love my job\",\"I hate that movie\",\"Spiderman was funny as hell!\",\"I hate his policies!!!\"]\n",
    "\n",
    "def preprocess(text):\n",
    "    return text.replace(\" \",\"+\")\n",
    "\n",
    "def print_response(text,resp):\n",
    "    resp = resp.text\n",
    "    resp = resp.replace(\"\\n\",\"\").replace(\" \",\"\").replace(\"{\",\"\").replace(\"}\",\"\").replace('\"',\"\")\n",
    "    resp = resp.replace(\",\",\"|\")\n",
    "    print(text+\" = \"+resp)\n",
    "\n",
    "def send_req():\n",
    "    text = random.choice(queries)\n",
    "    r = requests.get('http://localhost:7050/?text='+preprocess(text))\n",
    "    print_response(text,r)\n",
    "        "
   ]
  },
  {
   "cell_type": "code",
   "execution_count": null,
   "metadata": {},
   "outputs": [],
   "source": [
    "thread_count = 90\n",
    "workers=[]\n",
    "for i in range(thread_count):\n",
    "    t = Thread(target=send_req,args=())\n",
    "    t.start()\n",
    "    workers.append(t)\n",
    "for i,worker in enumerate(workers):\n",
    "    worker.join()"
   ]
  }
 ],
 "metadata": {
  "language_info": {
   "name": "python"
  },
  "orig_nbformat": 4
 },
 "nbformat": 4,
 "nbformat_minor": 2
}
